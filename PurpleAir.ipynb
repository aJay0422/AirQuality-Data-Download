{
 "cells": [
  {
   "cell_type": "code",
   "execution_count": 35,
   "outputs": [],
   "source": [
    "import datetime\n",
    "import pandas as pd\n",
    "import pytz\n",
    "import requests\n",
    "import time\n",
    "from io import StringIO"
   ],
   "metadata": {
    "collapsed": false,
    "pycharm": {
     "name": "#%%\n"
    }
   }
  },
  {
   "cell_type": "code",
   "execution_count": 115,
   "outputs": [],
   "source": [
    "sensor_id_list = [\"155565\", \"163173\"]"
   ],
   "metadata": {
    "collapsed": false,
    "pycharm": {
     "name": "#%%\n"
    }
   }
  },
  {
   "cell_type": "code",
   "execution_count": 116,
   "outputs": [],
   "source": [
    "def get_one_sensor_one_field(sensor_id, start_date, end_date, field=\"pm2.5_alt\"):\n",
    "    api_headers = {'X-API-Key': 'A9084A32-4059-11EE-A77F-42010A800009'}\n",
    "    sensor_id_int = int(sensor_id)\n",
    "    start_date = start_date.timestamp()\n",
    "    end_date = end_date.timestamp()\n",
    "    r = requests.get(f\"https://api.purpleair.com/v1/sensors/{sensor_id_int}/history/csv\", headers=api_headers, params={\n",
    "        \"start_timestamp\": start_date,\n",
    "        \"average\": 0,\n",
    "        \"end_timestamp\": end_date,\n",
    "        \"fields\": [field]\n",
    "    })\n",
    "    df = pd.read_csv(StringIO(r.text))\n",
    "    # print(df)\n",
    "    df = df.sort_values(\"time_stamp\", ascending=True)\n",
    "    return df"
   ],
   "metadata": {
    "collapsed": false,
    "pycharm": {
     "name": "#%%\n"
    }
   }
  },
  {
   "cell_type": "code",
   "execution_count": 121,
   "outputs": [],
   "source": [
    "def get_one_sensor_multi_fields(sensor_id, start_date, end_date, fields):\n",
    "    for field in fields:\n",
    "        time.sleep(0.5)   # frequently call purpleair api will cause error\n",
    "        # print(field)\n",
    "        df = get_one_sensor_one_field(sensor_id, start_date, end_date, field)\n",
    "        if field == fields[0]:\n",
    "            df_all = df\n",
    "        else:\n",
    "            df_all = df_all.merge(df, on=[\"time_stamp\", \"sensor_index\"])\n",
    "    return df_all"
   ],
   "metadata": {
    "collapsed": false,
    "pycharm": {
     "name": "#%%\n"
    }
   }
  },
  {
   "cell_type": "code",
   "execution_count": 125,
   "outputs": [
    {
     "data": {
      "text/plain": "     time_stamp  sensor_index  pm2.5_alt  humidity  temperature\n0    1697490051        163173        1.5      30.0         81.0\n1    1697490171        163173        1.6      30.0         81.0\n2    1697490290        163173        1.7      30.0         81.0\n3    1697490410        163173        1.5      31.0         81.0\n4    1697490530        163173        1.3      31.0         81.0\n..          ...           ...        ...       ...          ...\n715  1698094306        163173        7.3      48.0         74.0\n716  1698094426        163173        7.1      48.0         74.0\n717  1698094546        163173        6.5      48.0         75.0\n718  1698094666        163173        6.5      48.0         75.0\n719  1698094786        163173        6.7      47.0         75.0\n\n[5025 rows x 5 columns]",
      "text/html": "<div>\n<style scoped>\n    .dataframe tbody tr th:only-of-type {\n        vertical-align: middle;\n    }\n\n    .dataframe tbody tr th {\n        vertical-align: top;\n    }\n\n    .dataframe thead th {\n        text-align: right;\n    }\n</style>\n<table border=\"1\" class=\"dataframe\">\n  <thead>\n    <tr style=\"text-align: right;\">\n      <th></th>\n      <th>time_stamp</th>\n      <th>sensor_index</th>\n      <th>pm2.5_alt</th>\n      <th>humidity</th>\n      <th>temperature</th>\n    </tr>\n  </thead>\n  <tbody>\n    <tr>\n      <th>0</th>\n      <td>1697490051</td>\n      <td>163173</td>\n      <td>1.5</td>\n      <td>30.0</td>\n      <td>81.0</td>\n    </tr>\n    <tr>\n      <th>1</th>\n      <td>1697490171</td>\n      <td>163173</td>\n      <td>1.6</td>\n      <td>30.0</td>\n      <td>81.0</td>\n    </tr>\n    <tr>\n      <th>2</th>\n      <td>1697490290</td>\n      <td>163173</td>\n      <td>1.7</td>\n      <td>30.0</td>\n      <td>81.0</td>\n    </tr>\n    <tr>\n      <th>3</th>\n      <td>1697490410</td>\n      <td>163173</td>\n      <td>1.5</td>\n      <td>31.0</td>\n      <td>81.0</td>\n    </tr>\n    <tr>\n      <th>4</th>\n      <td>1697490530</td>\n      <td>163173</td>\n      <td>1.3</td>\n      <td>31.0</td>\n      <td>81.0</td>\n    </tr>\n    <tr>\n      <th>...</th>\n      <td>...</td>\n      <td>...</td>\n      <td>...</td>\n      <td>...</td>\n      <td>...</td>\n    </tr>\n    <tr>\n      <th>715</th>\n      <td>1698094306</td>\n      <td>163173</td>\n      <td>7.3</td>\n      <td>48.0</td>\n      <td>74.0</td>\n    </tr>\n    <tr>\n      <th>716</th>\n      <td>1698094426</td>\n      <td>163173</td>\n      <td>7.1</td>\n      <td>48.0</td>\n      <td>74.0</td>\n    </tr>\n    <tr>\n      <th>717</th>\n      <td>1698094546</td>\n      <td>163173</td>\n      <td>6.5</td>\n      <td>48.0</td>\n      <td>75.0</td>\n    </tr>\n    <tr>\n      <th>718</th>\n      <td>1698094666</td>\n      <td>163173</td>\n      <td>6.5</td>\n      <td>48.0</td>\n      <td>75.0</td>\n    </tr>\n    <tr>\n      <th>719</th>\n      <td>1698094786</td>\n      <td>163173</td>\n      <td>6.7</td>\n      <td>47.0</td>\n      <td>75.0</td>\n    </tr>\n  </tbody>\n</table>\n<p>5025 rows × 5 columns</p>\n</div>"
     },
     "execution_count": 125,
     "metadata": {},
     "output_type": "execute_result"
    }
   ],
   "source": [
    "sensor_id = sensor_id_list[1]\n",
    "\n",
    "start_date = datetime.datetime(2023, 10, 16, 14, 0, 0)\n",
    "end_date = datetime.datetime(2023, 10, 23, 14, 0, 0)\n",
    "\n",
    "# create a date sequence, since Purple Air API only allows 2 day intervals for real time data\n",
    "date_sequence = []\n",
    "while start_date < end_date:\n",
    "    date_sequence.append(start_date)\n",
    "    start_date += datetime.timedelta(days=1)\n",
    "date_sequence.append(end_date)\n",
    "\n",
    "for i in range(len(date_sequence)-1):\n",
    "    start_date = date_sequence[i]\n",
    "    end_date = date_sequence[i+1]\n",
    "    df = get_one_sensor_multi_fields(sensor_id, start_date, end_date, [\"pm2.5_alt\", \"humidity\", \"temperature\"])\n",
    "    if i == 0:\n",
    "        df_all = df\n",
    "    else:\n",
    "        df_all = df_all.append(df)\n",
    "df_all"
   ],
   "metadata": {
    "collapsed": false,
    "pycharm": {
     "name": "#%%\n"
    }
   }
  },
  {
   "cell_type": "code",
   "execution_count": 126,
   "outputs": [],
   "source": [
    "df_all.to_csv(\"./data/pa_10162023_10232023_{}.csv\".format(sensor_id), index=False)"
   ],
   "metadata": {
    "collapsed": false,
    "pycharm": {
     "name": "#%%\n"
    }
   }
  },
  {
   "cell_type": "markdown",
   "source": [
    "# Timestamp cleaning"
   ],
   "metadata": {
    "collapsed": false,
    "pycharm": {
     "name": "#%% md\n"
    }
   }
  },
  {
   "cell_type": "code",
   "execution_count": 183,
   "outputs": [],
   "source": [
    "sensor_id_list = [\"155565\", \"163173\"]\n",
    "dfs_processed = {}"
   ],
   "metadata": {
    "collapsed": false,
    "pycharm": {
     "name": "#%%\n"
    }
   }
  },
  {
   "cell_type": "code",
   "execution_count": 190,
   "outputs": [
    {
     "data": {
      "text/plain": "      time_stamp  sensor_index  pm2.5_alt  humidity  temperature\n0     1697490051        163173        1.5      30.0         81.0\n1     1697490171        163173        1.6      30.0         81.0\n2     1697490290        163173        1.7      30.0         81.0\n3     1697490410        163173        1.5      31.0         81.0\n4     1697490530        163173        1.3      31.0         81.0\n...          ...           ...        ...       ...          ...\n5020  1698094306        163173        7.3      48.0         74.0\n5021  1698094426        163173        7.1      48.0         74.0\n5022  1698094546        163173        6.5      48.0         75.0\n5023  1698094666        163173        6.5      48.0         75.0\n5024  1698094786        163173        6.7      47.0         75.0\n\n[5025 rows x 5 columns]",
      "text/html": "<div>\n<style scoped>\n    .dataframe tbody tr th:only-of-type {\n        vertical-align: middle;\n    }\n\n    .dataframe tbody tr th {\n        vertical-align: top;\n    }\n\n    .dataframe thead th {\n        text-align: right;\n    }\n</style>\n<table border=\"1\" class=\"dataframe\">\n  <thead>\n    <tr style=\"text-align: right;\">\n      <th></th>\n      <th>time_stamp</th>\n      <th>sensor_index</th>\n      <th>pm2.5_alt</th>\n      <th>humidity</th>\n      <th>temperature</th>\n    </tr>\n  </thead>\n  <tbody>\n    <tr>\n      <th>0</th>\n      <td>1697490051</td>\n      <td>163173</td>\n      <td>1.5</td>\n      <td>30.0</td>\n      <td>81.0</td>\n    </tr>\n    <tr>\n      <th>1</th>\n      <td>1697490171</td>\n      <td>163173</td>\n      <td>1.6</td>\n      <td>30.0</td>\n      <td>81.0</td>\n    </tr>\n    <tr>\n      <th>2</th>\n      <td>1697490290</td>\n      <td>163173</td>\n      <td>1.7</td>\n      <td>30.0</td>\n      <td>81.0</td>\n    </tr>\n    <tr>\n      <th>3</th>\n      <td>1697490410</td>\n      <td>163173</td>\n      <td>1.5</td>\n      <td>31.0</td>\n      <td>81.0</td>\n    </tr>\n    <tr>\n      <th>4</th>\n      <td>1697490530</td>\n      <td>163173</td>\n      <td>1.3</td>\n      <td>31.0</td>\n      <td>81.0</td>\n    </tr>\n    <tr>\n      <th>...</th>\n      <td>...</td>\n      <td>...</td>\n      <td>...</td>\n      <td>...</td>\n      <td>...</td>\n    </tr>\n    <tr>\n      <th>5020</th>\n      <td>1698094306</td>\n      <td>163173</td>\n      <td>7.3</td>\n      <td>48.0</td>\n      <td>74.0</td>\n    </tr>\n    <tr>\n      <th>5021</th>\n      <td>1698094426</td>\n      <td>163173</td>\n      <td>7.1</td>\n      <td>48.0</td>\n      <td>74.0</td>\n    </tr>\n    <tr>\n      <th>5022</th>\n      <td>1698094546</td>\n      <td>163173</td>\n      <td>6.5</td>\n      <td>48.0</td>\n      <td>75.0</td>\n    </tr>\n    <tr>\n      <th>5023</th>\n      <td>1698094666</td>\n      <td>163173</td>\n      <td>6.5</td>\n      <td>48.0</td>\n      <td>75.0</td>\n    </tr>\n    <tr>\n      <th>5024</th>\n      <td>1698094786</td>\n      <td>163173</td>\n      <td>6.7</td>\n      <td>47.0</td>\n      <td>75.0</td>\n    </tr>\n  </tbody>\n</table>\n<p>5025 rows × 5 columns</p>\n</div>"
     },
     "execution_count": 190,
     "metadata": {},
     "output_type": "execute_result"
    }
   ],
   "source": [
    "sensor_id = sensor_id_list[1]\n",
    "df = pd.read_csv(f\"./data/pa_10162023_10232023_{sensor_id}.csv\", index_col=False)\n",
    "df"
   ],
   "metadata": {
    "collapsed": false,
    "pycharm": {
     "name": "#%%\n"
    }
   }
  },
  {
   "cell_type": "code",
   "execution_count": 191,
   "outputs": [],
   "source": [
    "def clean_timestamp(df):\n",
    "    ts = pd.to_datetime(df[\"time_stamp\"], unit=\"s\") - datetime.timedelta(hours=7)   # convert to PDT\n",
    "    df[\"year\"] = ts.dt.year\n",
    "    df[\"month\"] = ts.dt.month\n",
    "    df[\"day\"] = ts.dt.day\n",
    "    df[\"hour\"] = ts.dt.hour\n",
    "    df[\"minute\"] = ts.dt.minute\n",
    "\n",
    "    df = df.drop(columns=[\"time_stamp\"])\n",
    "\n",
    "    return df"
   ],
   "metadata": {
    "collapsed": false,
    "pycharm": {
     "name": "#%%\n"
    }
   }
  },
  {
   "cell_type": "code",
   "execution_count": 192,
   "outputs": [
    {
     "data": {
      "text/plain": "      sensor_index  pm2.5_alt  humidity  temperature  year  month  day  hour  \\\n0           163173        1.5      30.0         81.0  2023     10   16    14   \n1           163173        1.6      30.0         81.0  2023     10   16    14   \n2           163173        1.7      30.0         81.0  2023     10   16    14   \n3           163173        1.5      31.0         81.0  2023     10   16    14   \n4           163173        1.3      31.0         81.0  2023     10   16    14   \n...            ...        ...       ...          ...   ...    ...  ...   ...   \n5020        163173        7.3      48.0         74.0  2023     10   23    13   \n5021        163173        7.1      48.0         74.0  2023     10   23    13   \n5022        163173        6.5      48.0         75.0  2023     10   23    13   \n5023        163173        6.5      48.0         75.0  2023     10   23    13   \n5024        163173        6.7      47.0         75.0  2023     10   23    13   \n\n      minute  \n0          0  \n1          2  \n2          4  \n3          6  \n4          8  \n...      ...  \n5020      51  \n5021      53  \n5022      55  \n5023      57  \n5024      59  \n\n[5025 rows x 9 columns]",
      "text/html": "<div>\n<style scoped>\n    .dataframe tbody tr th:only-of-type {\n        vertical-align: middle;\n    }\n\n    .dataframe tbody tr th {\n        vertical-align: top;\n    }\n\n    .dataframe thead th {\n        text-align: right;\n    }\n</style>\n<table border=\"1\" class=\"dataframe\">\n  <thead>\n    <tr style=\"text-align: right;\">\n      <th></th>\n      <th>sensor_index</th>\n      <th>pm2.5_alt</th>\n      <th>humidity</th>\n      <th>temperature</th>\n      <th>year</th>\n      <th>month</th>\n      <th>day</th>\n      <th>hour</th>\n      <th>minute</th>\n    </tr>\n  </thead>\n  <tbody>\n    <tr>\n      <th>0</th>\n      <td>163173</td>\n      <td>1.5</td>\n      <td>30.0</td>\n      <td>81.0</td>\n      <td>2023</td>\n      <td>10</td>\n      <td>16</td>\n      <td>14</td>\n      <td>0</td>\n    </tr>\n    <tr>\n      <th>1</th>\n      <td>163173</td>\n      <td>1.6</td>\n      <td>30.0</td>\n      <td>81.0</td>\n      <td>2023</td>\n      <td>10</td>\n      <td>16</td>\n      <td>14</td>\n      <td>2</td>\n    </tr>\n    <tr>\n      <th>2</th>\n      <td>163173</td>\n      <td>1.7</td>\n      <td>30.0</td>\n      <td>81.0</td>\n      <td>2023</td>\n      <td>10</td>\n      <td>16</td>\n      <td>14</td>\n      <td>4</td>\n    </tr>\n    <tr>\n      <th>3</th>\n      <td>163173</td>\n      <td>1.5</td>\n      <td>31.0</td>\n      <td>81.0</td>\n      <td>2023</td>\n      <td>10</td>\n      <td>16</td>\n      <td>14</td>\n      <td>6</td>\n    </tr>\n    <tr>\n      <th>4</th>\n      <td>163173</td>\n      <td>1.3</td>\n      <td>31.0</td>\n      <td>81.0</td>\n      <td>2023</td>\n      <td>10</td>\n      <td>16</td>\n      <td>14</td>\n      <td>8</td>\n    </tr>\n    <tr>\n      <th>...</th>\n      <td>...</td>\n      <td>...</td>\n      <td>...</td>\n      <td>...</td>\n      <td>...</td>\n      <td>...</td>\n      <td>...</td>\n      <td>...</td>\n      <td>...</td>\n    </tr>\n    <tr>\n      <th>5020</th>\n      <td>163173</td>\n      <td>7.3</td>\n      <td>48.0</td>\n      <td>74.0</td>\n      <td>2023</td>\n      <td>10</td>\n      <td>23</td>\n      <td>13</td>\n      <td>51</td>\n    </tr>\n    <tr>\n      <th>5021</th>\n      <td>163173</td>\n      <td>7.1</td>\n      <td>48.0</td>\n      <td>74.0</td>\n      <td>2023</td>\n      <td>10</td>\n      <td>23</td>\n      <td>13</td>\n      <td>53</td>\n    </tr>\n    <tr>\n      <th>5022</th>\n      <td>163173</td>\n      <td>6.5</td>\n      <td>48.0</td>\n      <td>75.0</td>\n      <td>2023</td>\n      <td>10</td>\n      <td>23</td>\n      <td>13</td>\n      <td>55</td>\n    </tr>\n    <tr>\n      <th>5023</th>\n      <td>163173</td>\n      <td>6.5</td>\n      <td>48.0</td>\n      <td>75.0</td>\n      <td>2023</td>\n      <td>10</td>\n      <td>23</td>\n      <td>13</td>\n      <td>57</td>\n    </tr>\n    <tr>\n      <th>5024</th>\n      <td>163173</td>\n      <td>6.7</td>\n      <td>47.0</td>\n      <td>75.0</td>\n      <td>2023</td>\n      <td>10</td>\n      <td>23</td>\n      <td>13</td>\n      <td>59</td>\n    </tr>\n  </tbody>\n</table>\n<p>5025 rows × 9 columns</p>\n</div>"
     },
     "execution_count": 192,
     "metadata": {},
     "output_type": "execute_result"
    }
   ],
   "source": [
    "df_processed = clean_timestamp(df)\n",
    "df_processed"
   ],
   "metadata": {
    "collapsed": false,
    "pycharm": {
     "name": "#%%\n"
    }
   }
  },
  {
   "cell_type": "code",
   "execution_count": 193,
   "outputs": [],
   "source": [
    "def average_30min(df):\n",
    "    df[\"minute\"] = df[\"minute\"].apply(lambda x: 0 if x < 30 else 30)\n",
    "    df = df.groupby([\"year\", \"month\", \"day\", \"hour\", \"minute\"]).mean().reset_index()\n",
    "    return df"
   ],
   "metadata": {
    "collapsed": false,
    "pycharm": {
     "name": "#%%\n"
    }
   }
  },
  {
   "cell_type": "code",
   "execution_count": 194,
   "outputs": [
    {
     "data": {
      "text/plain": "     year  month  day  hour  minute  sensor_index  pm2.5_alt   humidity  \\\n0    2023     10   16    14       0        163173   1.460000  30.733333   \n1    2023     10   16    14      30        163173   1.386667  30.000000   \n2    2023     10   16    15       0        163173   1.220000  30.266667   \n3    2023     10   16    15      30        163173   1.140000  31.866667   \n4    2023     10   16    16       0        163173   1.400000  32.800000   \n..    ...    ...  ...   ...     ...           ...        ...        ...   \n331  2023     10   23    11      30        163173   5.233333  56.000000   \n332  2023     10   23    12       0        163173   4.800000  54.466667   \n333  2023     10   23    12      30        163173   4.686667  51.066667   \n334  2023     10   23    13       0        163173   6.326667  48.466667   \n335  2023     10   23    13      30        163173   6.706667  48.333333   \n\n     temperature  \n0      81.000000  \n1      81.000000  \n2      80.933333  \n3      80.866667  \n4      81.000000  \n..           ...  \n331    69.000000  \n332    69.933333  \n333    71.933333  \n334    73.466667  \n335    73.800000  \n\n[336 rows x 9 columns]",
      "text/html": "<div>\n<style scoped>\n    .dataframe tbody tr th:only-of-type {\n        vertical-align: middle;\n    }\n\n    .dataframe tbody tr th {\n        vertical-align: top;\n    }\n\n    .dataframe thead th {\n        text-align: right;\n    }\n</style>\n<table border=\"1\" class=\"dataframe\">\n  <thead>\n    <tr style=\"text-align: right;\">\n      <th></th>\n      <th>year</th>\n      <th>month</th>\n      <th>day</th>\n      <th>hour</th>\n      <th>minute</th>\n      <th>sensor_index</th>\n      <th>pm2.5_alt</th>\n      <th>humidity</th>\n      <th>temperature</th>\n    </tr>\n  </thead>\n  <tbody>\n    <tr>\n      <th>0</th>\n      <td>2023</td>\n      <td>10</td>\n      <td>16</td>\n      <td>14</td>\n      <td>0</td>\n      <td>163173</td>\n      <td>1.460000</td>\n      <td>30.733333</td>\n      <td>81.000000</td>\n    </tr>\n    <tr>\n      <th>1</th>\n      <td>2023</td>\n      <td>10</td>\n      <td>16</td>\n      <td>14</td>\n      <td>30</td>\n      <td>163173</td>\n      <td>1.386667</td>\n      <td>30.000000</td>\n      <td>81.000000</td>\n    </tr>\n    <tr>\n      <th>2</th>\n      <td>2023</td>\n      <td>10</td>\n      <td>16</td>\n      <td>15</td>\n      <td>0</td>\n      <td>163173</td>\n      <td>1.220000</td>\n      <td>30.266667</td>\n      <td>80.933333</td>\n    </tr>\n    <tr>\n      <th>3</th>\n      <td>2023</td>\n      <td>10</td>\n      <td>16</td>\n      <td>15</td>\n      <td>30</td>\n      <td>163173</td>\n      <td>1.140000</td>\n      <td>31.866667</td>\n      <td>80.866667</td>\n    </tr>\n    <tr>\n      <th>4</th>\n      <td>2023</td>\n      <td>10</td>\n      <td>16</td>\n      <td>16</td>\n      <td>0</td>\n      <td>163173</td>\n      <td>1.400000</td>\n      <td>32.800000</td>\n      <td>81.000000</td>\n    </tr>\n    <tr>\n      <th>...</th>\n      <td>...</td>\n      <td>...</td>\n      <td>...</td>\n      <td>...</td>\n      <td>...</td>\n      <td>...</td>\n      <td>...</td>\n      <td>...</td>\n      <td>...</td>\n    </tr>\n    <tr>\n      <th>331</th>\n      <td>2023</td>\n      <td>10</td>\n      <td>23</td>\n      <td>11</td>\n      <td>30</td>\n      <td>163173</td>\n      <td>5.233333</td>\n      <td>56.000000</td>\n      <td>69.000000</td>\n    </tr>\n    <tr>\n      <th>332</th>\n      <td>2023</td>\n      <td>10</td>\n      <td>23</td>\n      <td>12</td>\n      <td>0</td>\n      <td>163173</td>\n      <td>4.800000</td>\n      <td>54.466667</td>\n      <td>69.933333</td>\n    </tr>\n    <tr>\n      <th>333</th>\n      <td>2023</td>\n      <td>10</td>\n      <td>23</td>\n      <td>12</td>\n      <td>30</td>\n      <td>163173</td>\n      <td>4.686667</td>\n      <td>51.066667</td>\n      <td>71.933333</td>\n    </tr>\n    <tr>\n      <th>334</th>\n      <td>2023</td>\n      <td>10</td>\n      <td>23</td>\n      <td>13</td>\n      <td>0</td>\n      <td>163173</td>\n      <td>6.326667</td>\n      <td>48.466667</td>\n      <td>73.466667</td>\n    </tr>\n    <tr>\n      <th>335</th>\n      <td>2023</td>\n      <td>10</td>\n      <td>23</td>\n      <td>13</td>\n      <td>30</td>\n      <td>163173</td>\n      <td>6.706667</td>\n      <td>48.333333</td>\n      <td>73.800000</td>\n    </tr>\n  </tbody>\n</table>\n<p>336 rows × 9 columns</p>\n</div>"
     },
     "execution_count": 194,
     "metadata": {},
     "output_type": "execute_result"
    }
   ],
   "source": [
    "df_processed = average_30min(df_processed)\n",
    "df_processed"
   ],
   "metadata": {
    "collapsed": false,
    "pycharm": {
     "name": "#%%\n"
    }
   }
  },
  {
   "cell_type": "code",
   "execution_count": 195,
   "outputs": [],
   "source": [
    "df_processed.to_csv(f\"./data/pa_10162023_10232023_{sensor_id}(30MinMean).csv\", index=False)\n",
    "dfs_processed[sensor_id] = df_processed"
   ],
   "metadata": {
    "collapsed": false,
    "pycharm": {
     "name": "#%%\n"
    }
   }
  },
  {
   "cell_type": "markdown",
   "source": [
    "# Visualization"
   ],
   "metadata": {
    "collapsed": false,
    "pycharm": {
     "name": "#%% md\n"
    }
   }
  },
  {
   "cell_type": "code",
   "execution_count": 200,
   "outputs": [],
   "source": [
    "import matplotlib.pyplot as plt\n",
    "import numpy as np"
   ],
   "metadata": {
    "collapsed": false,
    "pycharm": {
     "name": "#%%\n"
    }
   }
  },
  {
   "cell_type": "code",
   "execution_count": 199,
   "outputs": [
    {
     "data": {
      "text/plain": "<Figure size 432x288 with 1 Axes>",
      "image/png": "[encoded data removed]"
     },
     "metadata": {
      "needs_background": "light"
     },
     "output_type": "display_data"
    }
   ],
   "source": [
    "fig, ax = plt.subplots()\n",
    "ax.plot(dfs_processed[\"155565\"][\"pm2.5_alt\"], label=\"PurpleAir 1\")\n",
    "ax.plot(dfs_processed[\"163173\"][\"pm2.5_alt\"], label=\"PurpleAir 2\")\n",
    "plt.legend()\n",
    "plt.title(\"Co-located Two PurpleAir Sensors (30MinMean)\")\n",
    "plt.show()"
   ],
   "metadata": {
    "collapsed": false,
    "pycharm": {
     "name": "#%%\n"
    }
   }
  },
  {
   "cell_type": "code",
   "execution_count": 201,
   "outputs": [
    {
     "data": {
      "text/plain": "<Figure size 432x288 with 1 Axes>",
      "image/png": "[encoded data removed]"
     },
     "metadata": {
      "needs_background": "light"
     },
     "output_type": "display_data"
    }
   ],
   "source": [
    "shift = np.mean(dfs_processed[\"155565\"][\"pm2.5_alt\"]) - np.mean(dfs_processed[\"163173\"][\"pm2.5_alt\"])\n",
    "fig, ax = plt.subplots()\n",
    "ax.plot(dfs_processed[\"155565\"][\"pm2.5_alt\"], label=\"PurpleAir 1\")\n",
    "ax.plot(dfs_processed[\"163173\"][\"pm2.5_alt\"] + shift, label=\"PurpleAir 2\")\n",
    "plt.legend()\n",
    "plt.title(\"Shifted\")\n",
    "plt.show()"
   ],
   "metadata": {
    "collapsed": false,
    "pycharm": {
     "name": "#%%\n"
    }
   }
  },
  {
   "cell_type": "code",
   "execution_count": 202,
   "outputs": [
    {
     "data": {
      "text/plain": "     year  month  day  hour  minute  sensor_index  pm2.5_alt   humidity  \\\n0    2023     10   16    14       0        155565   0.300000  30.000000   \n1    2023     10   16    14      30        155565   0.300000  29.200000   \n2    2023     10   16    15       0        155565   0.220000  29.666667   \n3    2023     10   16    15      30        155565   0.220000  31.000000   \n4    2023     10   16    16       0        155565   0.286667  31.866667   \n..    ...    ...  ...   ...     ...           ...        ...        ...   \n331  2023     10   23    11      30        155565   2.220000  55.933333   \n332  2023     10   23    12       0        155565   1.720000  54.133333   \n333  2023     10   23    12      30        155565   1.686667  51.000000   \n334  2023     10   23    13       0        155565   3.680000  48.266667   \n335  2023     10   23    13      30        155565   3.793333  48.000000   \n\n     temperature  \n0      83.000000  \n1      83.000000  \n2      83.000000  \n3      83.000000  \n4      83.000000  \n..           ...  \n331    70.266667  \n332    71.133333  \n333    73.200000  \n334    74.800000  \n335    75.133333  \n\n[336 rows x 9 columns]",
      "text/html": "<div>\n<style scoped>\n    .dataframe tbody tr th:only-of-type {\n        vertical-align: middle;\n    }\n\n    .dataframe tbody tr th {\n        vertical-align: top;\n    }\n\n    .dataframe thead th {\n        text-align: right;\n    }\n</style>\n<table border=\"1\" class=\"dataframe\">\n  <thead>\n    <tr style=\"text-align: right;\">\n      <th></th>\n      <th>year</th>\n      <th>month</th>\n      <th>day</th>\n      <th>hour</th>\n      <th>minute</th>\n      <th>sensor_index</th>\n      <th>pm2.5_alt</th>\n      <th>humidity</th>\n      <th>temperature</th>\n    </tr>\n  </thead>\n  <tbody>\n    <tr>\n      <th>0</th>\n      <td>2023</td>\n      <td>10</td>\n      <td>16</td>\n      <td>14</td>\n      <td>0</td>\n      <td>155565</td>\n      <td>0.300000</td>\n      <td>30.000000</td>\n      <td>83.000000</td>\n    </tr>\n    <tr>\n      <th>1</th>\n      <td>2023</td>\n      <td>10</td>\n      <td>16</td>\n      <td>14</td>\n      <td>30</td>\n      <td>155565</td>\n      <td>0.300000</td>\n      <td>29.200000</td>\n      <td>83.000000</td>\n    </tr>\n    <tr>\n      <th>2</th>\n      <td>2023</td>\n      <td>10</td>\n      <td>16</td>\n      <td>15</td>\n      <td>0</td>\n      <td>155565</td>\n      <td>0.220000</td>\n      <td>29.666667</td>\n      <td>83.000000</td>\n    </tr>\n    <tr>\n      <th>3</th>\n      <td>2023</td>\n      <td>10</td>\n      <td>16</td>\n      <td>15</td>\n      <td>30</td>\n      <td>155565</td>\n      <td>0.220000</td>\n      <td>31.000000</td>\n      <td>83.000000</td>\n    </tr>\n    <tr>\n      <th>4</th>\n      <td>2023</td>\n      <td>10</td>\n      <td>16</td>\n      <td>16</td>\n      <td>0</td>\n      <td>155565</td>\n      <td>0.286667</td>\n      <td>31.866667</td>\n      <td>83.000000</td>\n    </tr>\n    <tr>\n      <th>...</th>\n      <td>...</td>\n      <td>...</td>\n      <td>...</td>\n      <td>...</td>\n      <td>...</td>\n      <td>...</td>\n      <td>...</td>\n      <td>...</td>\n      <td>...</td>\n    </tr>\n    <tr>\n      <th>331</th>\n      <td>2023</td>\n      <td>10</td>\n      <td>23</td>\n      <td>11</td>\n      <td>30</td>\n      <td>155565</td>\n      <td>2.220000</td>\n      <td>55.933333</td>\n      <td>70.266667</td>\n    </tr>\n    <tr>\n      <th>332</th>\n      <td>2023</td>\n      <td>10</td>\n      <td>23</td>\n      <td>12</td>\n      <td>0</td>\n      <td>155565</td>\n      <td>1.720000</td>\n      <td>54.133333</td>\n      <td>71.133333</td>\n    </tr>\n    <tr>\n      <th>333</th>\n      <td>2023</td>\n      <td>10</td>\n      <td>23</td>\n      <td>12</td>\n      <td>30</td>\n      <td>155565</td>\n      <td>1.686667</td>\n      <td>51.000000</td>\n      <td>73.200000</td>\n    </tr>\n    <tr>\n      <th>334</th>\n      <td>2023</td>\n      <td>10</td>\n      <td>23</td>\n      <td>13</td>\n      <td>0</td>\n      <td>155565</td>\n      <td>3.680000</td>\n      <td>48.266667</td>\n      <td>74.800000</td>\n    </tr>\n    <tr>\n      <th>335</th>\n      <td>2023</td>\n      <td>10</td>\n      <td>23</td>\n      <td>13</td>\n      <td>30</td>\n      <td>155565</td>\n      <td>3.793333</td>\n      <td>48.000000</td>\n      <td>75.133333</td>\n    </tr>\n  </tbody>\n</table>\n<p>336 rows × 9 columns</p>\n</div>"
     },
     "execution_count": 202,
     "metadata": {},
     "output_type": "execute_result"
    }
   ],
   "source": [
    "dfs_processed[\"155565\"]"
   ],
   "metadata": {
    "collapsed": false,
    "pycharm": {
     "name": "#%%\n"
    }
   }
  },
  {
   "cell_type": "code",
   "execution_count": null,
   "outputs": [],
   "source": [],
   "metadata": {
    "collapsed": false,
    "pycharm": {
     "name": "#%%\n"
    }
   }
  }
 ],
 "metadata": {
  "kernelspec": {
   "display_name": "Python 3",
   "language": "python",
   "name": "python3"
  },
  "language_info": {
   "codemirror_mode": {
    "name": "ipython",
    "version": 2
   },
   "file_extension": ".py",
   "mimetype": "text/x-python",
   "name": "python",
   "nbconvert_exporter": "python",
   "pygments_lexer": "ipython2",
   "version": "2.7.6"
  }
 },
 "nbformat": 4,
 "nbformat_minor": 0
}