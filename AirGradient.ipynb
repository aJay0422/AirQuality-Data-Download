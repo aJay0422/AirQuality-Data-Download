{
 "cells": [
  {
   "cell_type": "code",
   "execution_count": 1,
   "outputs": [],
   "source": [
    "import datetime\n",
    "import pandas as pd\n",
    "import numpy as np\n",
    "import matplotlib.pyplot as plt"
   ],
   "metadata": {
    "collapsed": false,
    "pycharm": {
     "name": "#%%\n"
    }
   }
  },
  {
   "cell_type": "markdown",
   "source": [
    "# Timestamp Cleaning"
   ],
   "metadata": {
    "collapsed": false,
    "pycharm": {
     "name": "#%% md\n"
    }
   }
  },
  {
   "cell_type": "code",
   "execution_count": 25,
   "outputs": [
    {
     "data": {
      "text/plain": "                timestamp  pm25  temperature  humidity\n14840 2023-10-16 14:00:00   1.0        23.90     34.65\n14839 2023-10-16 14:00:00   0.0        23.90     34.65\n30935 2023-10-16 14:00:00   1.0        23.90     34.11\n30934 2023-10-16 14:00:00   0.0        23.91     34.10\n47030 2023-10-16 14:00:00   2.0        23.90     35.20\n...                   ...   ...          ...       ...\n32192 2023-10-23 13:59:00  11.0        21.76     49.25\n32193 2023-10-23 13:59:00  13.0        21.70     49.15\n16097 2023-10-23 13:59:00  10.0        21.76     48.87\n2     2023-10-23 13:59:00  12.0        21.70     48.99\n16098 2023-10-23 13:59:00  11.0        21.70     48.83\n\n[44517 rows x 4 columns]",
      "text/html": "<div>\n<style scoped>\n    .dataframe tbody tr th:only-of-type {\n        vertical-align: middle;\n    }\n\n    .dataframe tbody tr th {\n        vertical-align: top;\n    }\n\n    .dataframe thead th {\n        text-align: right;\n    }\n</style>\n<table border=\"1\" class=\"dataframe\">\n  <thead>\n    <tr style=\"text-align: right;\">\n      <th></th>\n      <th>timestamp</th>\n      <th>pm25</th>\n      <th>temperature</th>\n      <th>humidity</th>\n    </tr>\n  </thead>\n  <tbody>\n    <tr>\n      <th>14840</th>\n      <td>2023-10-16 14:00:00</td>\n      <td>1.0</td>\n      <td>23.90</td>\n      <td>34.65</td>\n    </tr>\n    <tr>\n      <th>14839</th>\n      <td>2023-10-16 14:00:00</td>\n      <td>0.0</td>\n      <td>23.90</td>\n      <td>34.65</td>\n    </tr>\n    <tr>\n      <th>30935</th>\n      <td>2023-10-16 14:00:00</td>\n      <td>1.0</td>\n      <td>23.90</td>\n      <td>34.11</td>\n    </tr>\n    <tr>\n      <th>30934</th>\n      <td>2023-10-16 14:00:00</td>\n      <td>0.0</td>\n      <td>23.91</td>\n      <td>34.10</td>\n    </tr>\n    <tr>\n      <th>47030</th>\n      <td>2023-10-16 14:00:00</td>\n      <td>2.0</td>\n      <td>23.90</td>\n      <td>35.20</td>\n    </tr>\n    <tr>\n      <th>...</th>\n      <td>...</td>\n      <td>...</td>\n      <td>...</td>\n      <td>...</td>\n    </tr>\n    <tr>\n      <th>32192</th>\n      <td>2023-10-23 13:59:00</td>\n      <td>11.0</td>\n      <td>21.76</td>\n      <td>49.25</td>\n    </tr>\n    <tr>\n      <th>32193</th>\n      <td>2023-10-23 13:59:00</td>\n      <td>13.0</td>\n      <td>21.70</td>\n      <td>49.15</td>\n    </tr>\n    <tr>\n      <th>16097</th>\n      <td>2023-10-23 13:59:00</td>\n      <td>10.0</td>\n      <td>21.76</td>\n      <td>48.87</td>\n    </tr>\n    <tr>\n      <th>2</th>\n      <td>2023-10-23 13:59:00</td>\n      <td>12.0</td>\n      <td>21.70</td>\n      <td>48.99</td>\n    </tr>\n    <tr>\n      <th>16098</th>\n      <td>2023-10-23 13:59:00</td>\n      <td>11.0</td>\n      <td>21.70</td>\n      <td>48.83</td>\n    </tr>\n  </tbody>\n</table>\n<p>44517 rows × 4 columns</p>\n</div>"
     },
     "execution_count": 25,
     "metadata": {},
     "output_type": "execute_result"
    }
   ],
   "source": [
    "sensor_id = \"ucm\"\n",
    "df = pd.read_csv(f\"./data/ag_1016_1023_{sensor_id}.csv\", low_memory=False)\n",
    "df = df[[\"Local Date/Time\", \"PM2.5 (μg/m³)\", \"Temperature (°C)\", \"Humidity (%)\"]]\n",
    "df.columns = [\"timestamp\", \"pm25\", \"temperature\", \"humidity\"]\n",
    "df.dropna(inplace=True)\n",
    "df[\"timestamp\"] = pd.to_datetime(df[\"timestamp\"])\n",
    "df.sort_values(by=[\"timestamp\"], inplace=True)\n",
    "\n",
    "start_date = datetime.datetime(2023, 10, 16, 14,0, 0)\n",
    "df = df[df[\"timestamp\"] >= start_date]\n",
    "end_date = datetime.datetime(2023, 10, 23, 14, 0, 0)\n",
    "df = df[df[\"timestamp\"] < end_date]\n",
    "df"
   ],
   "metadata": {
    "collapsed": false,
    "pycharm": {
     "name": "#%%\n"
    }
   }
  },
  {
   "cell_type": "code",
   "execution_count": 26,
   "outputs": [],
   "source": [
    "def clean_timestamp(df):\n",
    "    ts = pd.to_datetime(df[\"timestamp\"])\n",
    "    df[\"year\"] = ts.dt.year\n",
    "    df[\"month\"] = ts.dt.month\n",
    "    df[\"day\"] = ts.dt.day\n",
    "    df[\"hour\"] = ts.dt.hour\n",
    "    df[\"minute\"] = ts.dt.minute\n",
    "\n",
    "    df = df.drop(columns=[\"timestamp\"])\n",
    "\n",
    "    return df"
   ],
   "metadata": {
    "collapsed": false,
    "pycharm": {
     "name": "#%%\n"
    }
   }
  },
  {
   "cell_type": "code",
   "execution_count": 27,
   "outputs": [
    {
     "data": {
      "text/plain": "       pm25  temperature  humidity  year  month  day  hour  minute\n14840   1.0        23.90     34.65  2023     10   16    14       0\n14839   0.0        23.90     34.65  2023     10   16    14       0\n30935   1.0        23.90     34.11  2023     10   16    14       0\n30934   0.0        23.91     34.10  2023     10   16    14       0\n47030   2.0        23.90     35.20  2023     10   16    14       0\n...     ...          ...       ...   ...    ...  ...   ...     ...\n32192  11.0        21.76     49.25  2023     10   23    13      59\n32193  13.0        21.70     49.15  2023     10   23    13      59\n16097  10.0        21.76     48.87  2023     10   23    13      59\n2      12.0        21.70     48.99  2023     10   23    13      59\n16098  11.0        21.70     48.83  2023     10   23    13      59\n\n[44517 rows x 8 columns]",
      "text/html": "<div>\n<style scoped>\n    .dataframe tbody tr th:only-of-type {\n        vertical-align: middle;\n    }\n\n    .dataframe tbody tr th {\n        vertical-align: top;\n    }\n\n    .dataframe thead th {\n        text-align: right;\n    }\n</style>\n<table border=\"1\" class=\"dataframe\">\n  <thead>\n    <tr style=\"text-align: right;\">\n      <th></th>\n      <th>pm25</th>\n      <th>temperature</th>\n      <th>humidity</th>\n      <th>year</th>\n      <th>month</th>\n      <th>day</th>\n      <th>hour</th>\n      <th>minute</th>\n    </tr>\n  </thead>\n  <tbody>\n    <tr>\n      <th>14840</th>\n      <td>1.0</td>\n      <td>23.90</td>\n      <td>34.65</td>\n      <td>2023</td>\n      <td>10</td>\n      <td>16</td>\n      <td>14</td>\n      <td>0</td>\n    </tr>\n    <tr>\n      <th>14839</th>\n      <td>0.0</td>\n      <td>23.90</td>\n      <td>34.65</td>\n      <td>2023</td>\n      <td>10</td>\n      <td>16</td>\n      <td>14</td>\n      <td>0</td>\n    </tr>\n    <tr>\n      <th>30935</th>\n      <td>1.0</td>\n      <td>23.90</td>\n      <td>34.11</td>\n      <td>2023</td>\n      <td>10</td>\n      <td>16</td>\n      <td>14</td>\n      <td>0</td>\n    </tr>\n    <tr>\n      <th>30934</th>\n      <td>0.0</td>\n      <td>23.91</td>\n      <td>34.10</td>\n      <td>2023</td>\n      <td>10</td>\n      <td>16</td>\n      <td>14</td>\n      <td>0</td>\n    </tr>\n    <tr>\n      <th>47030</th>\n      <td>2.0</td>\n      <td>23.90</td>\n      <td>35.20</td>\n      <td>2023</td>\n      <td>10</td>\n      <td>16</td>\n      <td>14</td>\n      <td>0</td>\n    </tr>\n    <tr>\n      <th>...</th>\n      <td>...</td>\n      <td>...</td>\n      <td>...</td>\n      <td>...</td>\n      <td>...</td>\n      <td>...</td>\n      <td>...</td>\n      <td>...</td>\n    </tr>\n    <tr>\n      <th>32192</th>\n      <td>11.0</td>\n      <td>21.76</td>\n      <td>49.25</td>\n      <td>2023</td>\n      <td>10</td>\n      <td>23</td>\n      <td>13</td>\n      <td>59</td>\n    </tr>\n    <tr>\n      <th>32193</th>\n      <td>13.0</td>\n      <td>21.70</td>\n      <td>49.15</td>\n      <td>2023</td>\n      <td>10</td>\n      <td>23</td>\n      <td>13</td>\n      <td>59</td>\n    </tr>\n    <tr>\n      <th>16097</th>\n      <td>10.0</td>\n      <td>21.76</td>\n      <td>48.87</td>\n      <td>2023</td>\n      <td>10</td>\n      <td>23</td>\n      <td>13</td>\n      <td>59</td>\n    </tr>\n    <tr>\n      <th>2</th>\n      <td>12.0</td>\n      <td>21.70</td>\n      <td>48.99</td>\n      <td>2023</td>\n      <td>10</td>\n      <td>23</td>\n      <td>13</td>\n      <td>59</td>\n    </tr>\n    <tr>\n      <th>16098</th>\n      <td>11.0</td>\n      <td>21.70</td>\n      <td>48.83</td>\n      <td>2023</td>\n      <td>10</td>\n      <td>23</td>\n      <td>13</td>\n      <td>59</td>\n    </tr>\n  </tbody>\n</table>\n<p>44517 rows × 8 columns</p>\n</div>"
     },
     "execution_count": 27,
     "metadata": {},
     "output_type": "execute_result"
    }
   ],
   "source": [
    "df_processed = clean_timestamp(df)\n",
    "df_processed"
   ],
   "metadata": {
    "collapsed": false,
    "pycharm": {
     "name": "#%%\n"
    }
   }
  },
  {
   "cell_type": "code",
   "execution_count": 28,
   "outputs": [],
   "source": [
    "def average_30min(df):\n",
    "    df[\"minute\"] = df[\"minute\"].apply(lambda x: 0 if x < 30 else 30)\n",
    "    df = df.groupby([\"year\", \"month\", \"day\", \"hour\", \"minute\"]).mean().reset_index()\n",
    "    return df"
   ],
   "metadata": {
    "collapsed": false,
    "pycharm": {
     "name": "#%%\n"
    }
   }
  },
  {
   "cell_type": "code",
   "execution_count": 29,
   "outputs": [
    {
     "data": {
      "text/plain": "     year  month  day  hour  minute       pm25  temperature   humidity\n0    2023     10   16    14       0   1.111111    23.891704  34.783111\n1    2023     10   16    14      30   0.954545    23.857273  34.273333\n2    2023     10   16    15       0   0.689394    23.773106  34.436515\n3    2023     10   16    15      30   0.577778    23.769852  36.104593\n4    2023     10   16    16       0   1.121212    23.819470  37.056970\n..    ...    ...  ...   ...     ...        ...          ...        ...\n331  2023     10   23    11      30   6.874074    19.495481  56.357407\n332  2023     10   23    12       0   6.303030    19.561515  55.242803\n333  2023     10   23    12      30   6.227273    20.399545  52.689470\n334  2023     10   23    13       0   9.068182    21.277803  50.132348\n335  2023     10   23    13      30  10.192593    21.436889  49.765333\n\n[336 rows x 8 columns]",
      "text/html": "<div>\n<style scoped>\n    .dataframe tbody tr th:only-of-type {\n        vertical-align: middle;\n    }\n\n    .dataframe tbody tr th {\n        vertical-align: top;\n    }\n\n    .dataframe thead th {\n        text-align: right;\n    }\n</style>\n<table border=\"1\" class=\"dataframe\">\n  <thead>\n    <tr style=\"text-align: right;\">\n      <th></th>\n      <th>year</th>\n      <th>month</th>\n      <th>day</th>\n      <th>hour</th>\n      <th>minute</th>\n      <th>pm25</th>\n      <th>temperature</th>\n      <th>humidity</th>\n    </tr>\n  </thead>\n  <tbody>\n    <tr>\n      <th>0</th>\n      <td>2023</td>\n      <td>10</td>\n      <td>16</td>\n      <td>14</td>\n      <td>0</td>\n      <td>1.111111</td>\n      <td>23.891704</td>\n      <td>34.783111</td>\n    </tr>\n    <tr>\n      <th>1</th>\n      <td>2023</td>\n      <td>10</td>\n      <td>16</td>\n      <td>14</td>\n      <td>30</td>\n      <td>0.954545</td>\n      <td>23.857273</td>\n      <td>34.273333</td>\n    </tr>\n    <tr>\n      <th>2</th>\n      <td>2023</td>\n      <td>10</td>\n      <td>16</td>\n      <td>15</td>\n      <td>0</td>\n      <td>0.689394</td>\n      <td>23.773106</td>\n      <td>34.436515</td>\n    </tr>\n    <tr>\n      <th>3</th>\n      <td>2023</td>\n      <td>10</td>\n      <td>16</td>\n      <td>15</td>\n      <td>30</td>\n      <td>0.577778</td>\n      <td>23.769852</td>\n      <td>36.104593</td>\n    </tr>\n    <tr>\n      <th>4</th>\n      <td>2023</td>\n      <td>10</td>\n      <td>16</td>\n      <td>16</td>\n      <td>0</td>\n      <td>1.121212</td>\n      <td>23.819470</td>\n      <td>37.056970</td>\n    </tr>\n    <tr>\n      <th>...</th>\n      <td>...</td>\n      <td>...</td>\n      <td>...</td>\n      <td>...</td>\n      <td>...</td>\n      <td>...</td>\n      <td>...</td>\n      <td>...</td>\n    </tr>\n    <tr>\n      <th>331</th>\n      <td>2023</td>\n      <td>10</td>\n      <td>23</td>\n      <td>11</td>\n      <td>30</td>\n      <td>6.874074</td>\n      <td>19.495481</td>\n      <td>56.357407</td>\n    </tr>\n    <tr>\n      <th>332</th>\n      <td>2023</td>\n      <td>10</td>\n      <td>23</td>\n      <td>12</td>\n      <td>0</td>\n      <td>6.303030</td>\n      <td>19.561515</td>\n      <td>55.242803</td>\n    </tr>\n    <tr>\n      <th>333</th>\n      <td>2023</td>\n      <td>10</td>\n      <td>23</td>\n      <td>12</td>\n      <td>30</td>\n      <td>6.227273</td>\n      <td>20.399545</td>\n      <td>52.689470</td>\n    </tr>\n    <tr>\n      <th>334</th>\n      <td>2023</td>\n      <td>10</td>\n      <td>23</td>\n      <td>13</td>\n      <td>0</td>\n      <td>9.068182</td>\n      <td>21.277803</td>\n      <td>50.132348</td>\n    </tr>\n    <tr>\n      <th>335</th>\n      <td>2023</td>\n      <td>10</td>\n      <td>23</td>\n      <td>13</td>\n      <td>30</td>\n      <td>10.192593</td>\n      <td>21.436889</td>\n      <td>49.765333</td>\n    </tr>\n  </tbody>\n</table>\n<p>336 rows × 8 columns</p>\n</div>"
     },
     "execution_count": 29,
     "metadata": {},
     "output_type": "execute_result"
    }
   ],
   "source": [
    "df_processed = average_30min(df_processed)\n",
    "df_processed"
   ],
   "metadata": {
    "collapsed": false,
    "pycharm": {
     "name": "#%%\n"
    }
   }
  },
  {
   "cell_type": "code",
   "execution_count": 33,
   "outputs": [],
   "source": [
    "df_processed.to_csv(f\"./data/ag_10162023_10232023_{sensor_id}(30MinMean).csv\", index=False)"
   ],
   "metadata": {
    "collapsed": false,
    "pycharm": {
     "name": "#%%\n"
    }
   }
  },
  {
   "cell_type": "markdown",
   "source": [
    "# Visualization"
   ],
   "metadata": {
    "collapsed": false,
    "pycharm": {
     "name": "#%% md\n"
    }
   }
  },
  {
   "cell_type": "code",
   "execution_count": 30,
   "outputs": [],
   "source": [
    "import matplotlib.pyplot as plt\n",
    "import numpy as np"
   ],
   "metadata": {
    "collapsed": false,
    "pycharm": {
     "name": "#%%\n"
    }
   }
  },
  {
   "cell_type": "code",
   "execution_count": 31,
   "outputs": [
    {
     "data": {
      "text/plain": "<matplotlib.legend.Legend at 0x7f9bc8d5c790>"
     },
     "execution_count": 31,
     "metadata": {},
     "output_type": "execute_result"
    },
    {
     "data": {
      "text/plain": "<Figure size 432x288 with 1 Axes>",
      "image/png": "[encoded data removed]"
     },
     "metadata": {
      "needs_background": "light"
     },
     "output_type": "display_data"
    }
   ],
   "source": [
    "fig, ax = plt.subplots()\n",
    "ax.plot(df_processed[\"pm25\"], label=\"Air Gradient\")\n",
    "plt.legend()\n",
    "plt.title(\"Air Gradient Sensor (30MinMean)\")\n",
    "plt.legend()"
   ],
   "metadata": {
    "collapsed": false,
    "pycharm": {
     "name": "#%%\n"
    }
   }
  }
 ],
 "metadata": {
  "kernelspec": {
   "display_name": "Python 3",
   "language": "python",
   "name": "python3"
  },
  "language_info": {
   "codemirror_mode": {
    "name": "ipython",
    "version": 2
   },
   "file_extension": ".py",
   "mimetype": "text/x-python",
   "name": "python",
   "nbconvert_exporter": "python",
   "pygments_lexer": "ipython2",
   "version": "2.7.6"
  }
 },
 "nbformat": 4,
 "nbformat_minor": 0
}